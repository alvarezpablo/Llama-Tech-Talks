{
  "cells": [
    {
      "cell_type": "markdown",
      "metadata": {
        "id": "view-in-github",
        "colab_type": "text"
      },
      "source": [
        "<a href=\"https://colab.research.google.com/github/alvarezpablo/Llama-Tech-Talks/blob/main/Llama3.1-MetaDay-UR-2025/módulo%204/Llama3.1_Unsloth_FineTuning_Optimizado.ipynb\" target=\"_parent\"><img src=\"https://colab.research.google.com/assets/colab-badge.svg\" alt=\"Open In Colab\"/></a>"
      ]
    },
    {
      "cell_type": "markdown",
      "metadata": {
        "id": "title"
      },
      "source": [
        "# 🦙 Fine-tune Llama 3.1 Ultra-Efficiently with Unsloth\n",
        "\n",
        "## Meta Day Uruguay 2025 - Módulo 4 Optimizado\n",
        "\n",
        "Este notebook implementa las técnicas más avanzadas de fine-tuning usando **Unsloth** para obtener:\n",
        "- ⚡ **2x más rápido** que métodos tradicionales\n",
        "- 💾 **60% menos uso de memoria**\n",
        "- 🎯 **Rank-Stabilized LoRA (rsLoRA)**\n",
        "- 📊 **Chat templates optimizados**\n",
        "- 🔧 **Configuración automática de hiperparámetros**\n",
        "\n",
        "Basado en el artículo: [Fine-tune Llama 3.1 Ultra-Efficiently with Unsloth](https://huggingface.co/blog/mlabonne/sft-llama3)"
      ]
    },
    {
      "cell_type": "markdown",
      "metadata": {
        "id": "setup"
      },
      "source": [
        "## 🚀 Configuración e Instalación\n",
        "\n",
        "### Verificar GPU disponible"
      ]
    },
    {
      "cell_type": "code",
      "execution_count": null,
      "metadata": {
        "id": "gpu_check"
      },
      "outputs": [],
      "source": [
        "import torch\n",
        "print(f\"CUDA disponible: {torch.cuda.is_available()}\")\n",
        "if torch.cuda.is_available():\n",
        "    print(f\"GPU: {torch.cuda.get_device_name(0)}\")\n",
        "    print(f\"Memoria GPU: {torch.cuda.get_device_properties(0).total_memory / 1024**3:.1f} GB\")\n",
        "else:\n",
        "    print(\"⚠️ Ejecutando en CPU - El entrenamiento será más lento\")"
      ]
    },
    {
      "cell_type": "markdown",
      "metadata": {
        "id": "install"
      },
      "source": [
        "### Instalar Unsloth y dependencias optimizadas"
      ]
    },
    {
      "cell_type": "code",
      "execution_count": null,
      "metadata": {
        "id": "install_unsloth"
      },
      "outputs": [],
      "source": [
        "# 🔧 Solución para error de protobuf\n",
        "import os\n",
        "os.environ[\"PROTOCOL_BUFFERS_PYTHON_IMPLEMENTATION\"] = \"python\"\n",
        "\n",
        "# Instalación optimizada para Colab\n",
        "!pip install \"protobuf<=3.20.3\"\n",
        "!pip install \"unsloth[colab-new] @ git+https://github.com/unslothai/unsloth.git\"\n",
        "!pip install --no-deps \"xformers<0.0.27\" \"trl<0.9.0\" peft accelerate bitsandbytes\n",
        "\n",
        "print(\"✅ Instalación completada con fix de protobuf\")"
      ]
    },
    {
      "cell_type": "markdown",
      "metadata": {
        "id": "imports"
      },
      "source": [
        "### Importar librerías"
      ]
    },
    {
      "cell_type": "code",
      "execution_count": null,
      "metadata": {
        "id": "import_libs"
      },
      "outputs": [],
      "source": [
        "import torch\n",
        "from trl import SFTTrainer\n",
        "from datasets import load_dataset\n",
        "from transformers import TrainingArguments, TextStreamer\n",
        "from unsloth.chat_templates import get_chat_template\n",
        "from unsloth import FastLanguageModel, is_bfloat16_supported\n",
        "import os\n",
        "from datetime import datetime\n",
        "\n",
        "print(f\"🚀 Configuración completada - {datetime.now().strftime('%Y-%m-%d %H:%M:%S')}\")"
      ]
    },
    {
      "cell_type": "markdown",
      "metadata": {
        "id": "model_loading"
      },
      "source": [
        "## 🤖 Carga del Modelo Llama 3.1 8B\n",
        "\n",
        "Usamos la versión pre-cuantizada de Unsloth para máxima eficiencia:"
      ]
    },
    {
      "cell_type": "code",
      "execution_count": null,
      "metadata": {
        "id": "load_model"
      },
      "outputs": [],
      "source": [
        "# Configuración del modelo\n",
        "max_seq_length = 2048  # Ajusta según tu GPU (hasta 128k para Llama 3.1)\n",
        "model_name = \"unsloth/Meta-Llama-3.1-8B-bnb-4bit\"\n",
        "\n",
        "print(f\"📥 Cargando modelo: {model_name}\")\n",
        "print(f\"📏 Longitud máxima de secuencia: {max_seq_length}\")\n",
        "\n",
        "# Cargar modelo y tokenizer\n",
        "model, tokenizer = FastLanguageModel.from_pretrained(\n",
        "    model_name=model_name,\n",
        "    max_seq_length=max_seq_length,\n",
        "    load_in_4bit=True,\n",
        "    dtype=None,  # Auto-detecta BF16 para GPUs Ampere+\n",
        ")\n",
        "\n",
        "print(\"✅ Modelo cargado exitosamente\")"
      ]
    },
    {
      "cell_type": "markdown",
      "metadata": {
        "id": "lora_config"
      },
      "source": [
        "## ⚙️ Configuración LoRA Optimizada\n",
        "\n",
        "Implementamos **Rank-Stabilized LoRA (rsLoRA)** con configuración optimizada:"
      ]
    },
    {
      "cell_type": "code",
      "execution_count": null,
      "metadata": {
        "id": "setup_lora"
      },
      "outputs": [],
      "source": [
        "# Configuración LoRA optimizada\n",
        "model = FastLanguageModel.get_peft_model(\n",
        "    model,\n",
        "    r=16,  # Rank - balance entre calidad y eficiencia\n",
        "    lora_alpha=16,  # Scaling factor (típicamente 1x o 2x el rank)\n",
        "    lora_dropout=0,  # Sin dropout para entrenamiento más rápido\n",
        "    target_modules=[\n",
        "        \"q_proj\", \"k_proj\", \"v_proj\",  # Attention\n",
        "        \"up_proj\", \"down_proj\", \"o_proj\", \"gate_proj\"  # Feed-forward\n",
        "    ], \n",
        "    use_rslora=True,  # 🎯 Rank-Stabilized LoRA para mejor estabilidad\n",
        "    use_gradient_checkpointing=\"unsloth\"  # Optimización de memoria\n",
        ")\n",
        "\n",
        "# Mostrar estadísticas de parámetros\n",
        "total_params = sum(p.numel() for p in model.parameters())\n",
        "trainable_params = sum(p.numel() for p in model.parameters() if p.requires_grad)\n",
        "percentage = (trainable_params / total_params) * 100\n",
        "\n",
        "print(f\"📊 Parámetros totales: {total_params:,}\")\n",
        "print(f\"🎯 Parámetros entrenables: {trainable_params:,} ({percentage:.4f}%)\")\n",
        "print(f\"💾 Reducción de parámetros: {100-percentage:.2f}%\")"
      ]
    },
    {
      "cell_type": "markdown",
      "metadata": {
        "id": "dataset_section"
      },
      "source": [
        "## 📚 Preparación del Dataset\n",
        "\n",
        "Usamos el dataset **FineTome-100k** - ultra alta calidad con conversaciones, razonamiento y function calling:"
      ]
    },
    {
      "cell_type": "code",
      "execution_count": null,
      "metadata": {
        "id": "setup_chat_template"
      },
      "outputs": [],
      "source": [
        "# Configurar chat template (ChatML - estándar de la comunidad)\n",
        "tokenizer = get_chat_template(\n",
        "    tokenizer,\n",
        "    mapping={\"role\": \"from\", \"content\": \"value\", \"user\": \"human\", \"assistant\": \"gpt\"},\n",
        "    chat_template=\"chatml\",\n",
        ")\n",
        "\n",
        "def apply_template(examples):\n",
        "    \"\"\"Aplica el chat template a las conversaciones\"\"\"\n",
        "    messages = examples[\"conversations\"]\n",
        "    text = [\n",
        "        tokenizer.apply_chat_template(\n",
        "            message, \n",
        "            tokenize=False, \n",
        "            add_generation_prompt=False\n",
        "        ) for message in messages\n",
        "    ]\n",
        "    return {\"text\": text}\n",
        "\n",
        "print(\"✅ Chat template configurado (ChatML)\")"
      ]
    },
    {
      "cell_type": "code",
      "execution_count": null,
      "metadata": {
        "id": "load_dataset"
      },
      "outputs": [],
      "source": [
        "# Cargar dataset - ajusta el subset para entrenamientos más rápidos\n",
        "dataset_size = \"train[:10000]\"  # Cambia a \"train\" para dataset completo (100k samples)\n",
        "\n",
        "print(f\"📥 Cargando dataset: mlabonne/FineTome-100k ({dataset_size})\")\n",
        "dataset = load_dataset(\"mlabonne/FineTome-100k\", split=dataset_size)\n",
        "dataset = dataset.map(apply_template, batched=True)\n",
        "\n",
        "print(f\"📊 Dataset cargado: {len(dataset):,} muestras\")\n",
        "print(f\"📝 Ejemplo de conversación formateada:\")\n",
        "print(\"=\" * 50)\n",
        "print(dataset[0][\"text\"][:500] + \"...\")\n",
        "print(\"=\" * 50)"
      ]
    },
    {
      "cell_type": "markdown",
      "metadata": {
        "id": "training_section"
      },
      "source": [
        "## 🏋️ Entrenamiento con Hiperparámetros Optimizados\n",
        "\n",
        "Configuración basada en las mejores prácticas del artículo de Hugging Face:"
      ]
    },
    {
      "cell_type": "code",
      "execution_count": null,
      "metadata": {
        "id": "training_config"
      },
      "outputs": [],
      "source": [
        "# Configuración de entrenamiento optimizada\n",
        "trainer = SFTTrainer(\n",
        "    model=model,\n",
        "    tokenizer=tokenizer,\n",
        "    train_dataset=dataset,\n",
        "    dataset_text_field=\"text\",\n",
        "    max_seq_length=max_seq_length,\n",
        "    dataset_num_proc=2,\n",
        "    packing=True,  # 🚀 Combina múltiples muestras pequeñas en un batch\n",
        "    args=TrainingArguments(\n",
        "        # Configuración de learning rate\n",
        "        learning_rate=3e-4,  # Óptimo para LoRA\n",
        "        lr_scheduler_type=\"linear\",  # Scheduler lineal recomendado\n",
        "        \n",
        "        # Configuración de batch\n",
        "        per_device_train_batch_size=8,  # Ajusta según tu GPU\n",
        "        gradient_accumulation_steps=2,  # Batch efectivo = 8 * 2 = 16\n",
        "        \n",
        "        # Épocas y pasos\n",
        "        num_train_epochs=1,  # 1 época suele ser suficiente con datasets de calidad\n",
        "        warmup_steps=10,  # Warmup para estabilizar entrenamiento inicial\n",
        "        \n",
        "        # Optimización\n",
        "        fp16=not is_bfloat16_supported(),  # FP16 para GPUs más antiguas\n",
        "        bf16=is_bfloat16_supported(),      # BF16 para GPUs Ampere+\n",
        "        optim=\"adamw_8bit\",  # 🎯 AdamW 8-bit para menor uso de memoria\n",
        "        weight_decay=0.01,   # Regularización\n",
        "        \n",
        "        # Logging y guardado\n",
        "        logging_steps=1,\n",
        "        output_dir=\"output\",\n",
        "        seed=0,  # Reproducibilidad\n",
        "        \n",
        "        # Configuraciones adicionales\n",
        "        remove_unused_columns=False,\n",
        "        dataloader_pin_memory=False,\n",
        "    ),\n",
        ")\n",
        "\n",
        "print(\"⚙️ Trainer configurado con hiperparámetros optimizados\")\n",
        "print(f\"🎯 Batch size efectivo: {8 * 2} (per_device_batch_size * gradient_accumulation_steps)\")\n",
        "print(f\"🔧 Optimizador: AdamW 8-bit\")\n",
        "print(f\"📊 Precisión: {'BF16' if is_bfloat16_supported() else 'FP16'}\")"
      ]
    },
    {
      "cell_type": "code",
      "execution_count": null,
      "metadata": {
        "id": "start_training"
      },
      "outputs": [],
      "source": [
        "# 🚀 ¡Iniciar entrenamiento!\n",
        "print(\"🏋️ Iniciando entrenamiento...\")\n",
        "print(f\"⏰ Tiempo estimado: ~20-30 min para 10k muestras en T4\")\n",
        "print(\"=\" * 60)\n",
        "\n",
        "trainer.train()\n",
        "\n",
        "print(\"=\" * 60)\n",
        "print(\"🎉 ¡Entrenamiento completado!\")"
      ]
    },
    {
      "cell_type": "markdown",
      "metadata": {
        "id": "inference_section"
      },
      "source": [
        "## 🧪 Prueba del Modelo Fine-tuneado\n",
        "\n",
        "Probemos el modelo con algunas preguntas para verificar su funcionamiento:"
      ]
    },
    {
      "cell_type": "code",
      "execution_count": null,
      "metadata": {
        "id": "test_model"
      },
      "outputs": [],
      "source": [
        "# Preparar modelo para inferencia (2x más rápido)\n",
        "model = FastLanguageModel.for_inference(model)\n",
        "\n",
        "def test_model(prompt, max_tokens=128):\n",
        "    \"\"\"Función helper para probar el modelo\"\"\"\n",
        "    messages = [{\"from\": \"human\", \"value\": prompt}]\n",
        "    inputs = tokenizer.apply_chat_template(\n",
        "        messages,\n",
        "        tokenize=True,\n",
        "        add_generation_prompt=True,\n",
        "        return_tensors=\"pt\",\n",
        "    ).to(\"cuda\" if torch.cuda.is_available() else \"cpu\")\n",
        "    \n",
        "    text_streamer = TextStreamer(tokenizer)\n",
        "    print(f\"🤖 Pregunta: {prompt}\")\n",
        "    print(f\"💭 Respuesta: \", end=\"\")\n",
        "    \n",
        "    _ = model.generate(\n",
        "        input_ids=inputs, \n",
        "        streamer=text_streamer, \n",
        "        max_new_tokens=max_tokens, \n",
        "        use_cache=True,\n",
        "        temperature=0.7,\n",
        "        do_sample=True\n",
        "    )\n",
        "    print(\"\\n\" + \"=\"*50)\n",
        "\n",
        "print(\"🧪 Probando el modelo fine-tuneado...\")"
      ]
    },
    {
      "cell_type": "code",
      "execution_count": null,
      "metadata": {
        "id": "run_tests"
      },
      "outputs": [],
      "source": [
        "# Pruebas del modelo\n",
        "test_prompts = [\n",
        "    \"¿Es 9.11 mayor que 9.9?\",\n",
        "    \"Explica qué es el fine-tuning en términos simples\",\n",
        "    \"¿Cuáles son las ventajas de usar LoRA?\",\n",
        "    \"Escribe un código Python para calcular la secuencia de Fibonacci\"\n",
        "]\n",
        "\n",
        "for i, prompt in enumerate(test_prompts, 1):\n",
        "    print(f\"\\n🔍 Prueba {i}/{len(test_prompts)}\")\n",
        "    test_model(prompt)\n",
        "    \n",
        "print(\"\\n✅ Todas las pruebas completadas\")"
      ]
    },
    {
      "cell_type": "markdown",
      "metadata": {
        "id": "save_section"
      },
      "source": [
        "## 💾 Guardar y Exportar el Modelo\n",
        "\n",
        "Guardamos el modelo en diferentes formatos para máxima compatibilidad:"
      ]
    },
    {
      "cell_type": "code",
      "execution_count": null,
      "metadata": {
        "id": "save_model"
      },
      "outputs": [],
      "source": [
        "# Opción 1: Guardar solo los adaptadores LoRA (más pequeño)\n",
        "print(\"💾 Guardando adaptadores LoRA...\")\n",
        "model.save_pretrained(\"lora_model\")\n",
        "tokenizer.save_pretrained(\"lora_model\")\n",
        "print(\"✅ Adaptadores LoRA guardados en './lora_model'\")\n",
        "\n",
        "# Opción 2: Guardar modelo completo fusionado (16-bit)\n",
        "print(\"\\n🔗 Fusionando y guardando modelo completo...\")\n",
        "model.save_pretrained_merged(\"merged_model\", tokenizer, save_method=\"merged_16bit\")\n",
        "print(\"✅ Modelo fusionado guardado en './merged_model'\")"
      ]
    },
    {
      "cell_type": "code",
      "execution_count": null,
      "metadata": {
        "id": "upload_hf"
      },
      "outputs": [],
      "source": [
        "# Opcional: Subir a Hugging Face Hub\n",
        "# Descomenta y configura tu token de HF para subir el modelo\n",
        "\n",
        "# from huggingface_hub import login\n",
        "# login()  # Ingresa tu token de Hugging Face\n",
        "\n",
        "# # Subir modelo fusionado\n",
        "# model_name = \"tu-usuario/llama3.1-8b-finetune-metaday\"\n",
        "# model.push_to_hub_merged(model_name, tokenizer, save_method=\"merged_16bit\")\n",
        "# print(f\"🚀 Modelo subido a: https://huggingface.co/{model_name}\")\n",
        "\n",
        "print(\"ℹ️ Para subir a HF Hub, descomenta y configura el código anterior\")"
      ]
    },
    {
      "cell_type": "markdown",
      "metadata": {
        "id": "gguf_section"
      },
      "source": [
        "### 📦 Exportar a formato GGUF (para Ollama, LM Studio, etc.)"
      ]
    },
    {
      "cell_type": "code",
      "execution_count": null,
      "metadata": {
        "id": "export_gguf"
      },
      "outputs": [],
      "source": [
        "# Exportar a GGUF para usar con Ollama, LM Studio, etc.\n",
        "print(\"📦 Exportando a formato GGUF...\")\n",
        "\n",
        "# Diferentes niveles de cuantización\n",
        "quant_methods = [\"q4_k_m\", \"q5_k_m\", \"q8_0\"]  # Métodos más comunes\n",
        "\n",
        "for quant in quant_methods:\n",
        "    print(f\"🔄 Exportando {quant}...\")\n",
        "    model.save_pretrained_gguf(f\"gguf_model\", tokenizer, quantization_method=quant)\n",
        "    print(f\"✅ {quant} guardado\")\n",
        "\n",
        "print(\"\\n🎉 Todos los formatos GGUF exportados en './gguf_model'\")\n",
        "print(\"💡 Puedes usar estos archivos con:\")\n",
        "print(\"   • Ollama: ollama create mi-modelo -f ./gguf_model\")\n",
        "print(\"   • LM Studio: Importar directamente\")\n",
        "print(\"   • llama.cpp: ./main -m ./gguf_model/model-q4_k_m.gguf\")"
      ]
    },
    {
      "cell_type": "markdown",
      "metadata": {
        "id": "conclusion"
      },
      "source": [
        "## 🎯 Resumen y Próximos Pasos\n",
        "\n",
        "### ✅ Lo que hemos logrado:\n",
        "- Fine-tuning ultra-eficiente con **Unsloth** (2x más rápido, 60% menos memoria)\n",
        "- Implementación de **Rank-Stabilized LoRA (rsLoRA)** para mejor estabilidad\n",
        "- Uso del dataset **FineTome-100k** de ultra alta calidad\n",
        "- Chat template **ChatML** optimizado\n",
        "- Hiperparámetros basados en mejores prácticas\n",
        "- Exportación a múltiples formatos (LoRA, merged, GGUF)\n",
        "\n",
        "### 🚀 Próximos pasos sugeridos:\n",
        "1. **Evaluación**: Usar Open LLM Leaderboard o LLM AutoEval\n",
        "2. **Alignment**: Aplicar DPO con dataset de preferencias\n",
        "3. **Cuantización**: Probar EXL2, AWQ, GPTQ para inferencia más rápida\n",
        "4. **Deployment**: Usar Hugging Face Spaces, Ollama, o vLLM\n",
        "5. **Escalado**: Probar con modelos más grandes (70B, 405B)\n",
        "\n",
        "### 📚 Recursos adicionales:\n",
        "- [LLM Course](https://github.com/mlabonne/llm-course) - Curso completo de LLMs\n",
        "- [Unsloth Documentation](https://github.com/unslothai/unsloth) - Documentación oficial\n",
        "- [FineTome Dataset](https://huggingface.co/datasets/mlabonne/FineTome-100k) - Dataset usado\n",
        "\n",
        "---\n",
        "**Meta Day Uruguay 2025** - Módulo 4: Fine-tuning Optimizado 🇺🇾"
      ]
    }
  ],
  "metadata": {
    "colab": {
      "provenance": [],
      "gpuType": "T4",
      "include_colab_link": true
    },
    "kernelspec": {
      "display_name": "Python 3",
      "name": "python3"
    },
    "language_info": {
      "name": "python"
    },
    "accelerator": "GPU"
  },
  "nbformat": 4,
  "nbformat_minor": 0
}
