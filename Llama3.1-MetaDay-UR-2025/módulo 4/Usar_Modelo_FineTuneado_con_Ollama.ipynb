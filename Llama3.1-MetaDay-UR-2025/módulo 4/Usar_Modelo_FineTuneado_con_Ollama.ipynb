{
  "cells": [
    {
      "cell_type": "markdown",
      "metadata": {
        "id": "title"
      },
      "source": [
        "# 🦙 Usar Modelo Fine-tuneado con Ollama\n",
        "\n",
        "## Meta Day Uruguay 2025 - Conexión Módulo 4 → Módulo 5\n",
        "\n",
        "Este notebook muestra cómo usar el modelo que fine-tuneaste en el notebook anterior con **Ollama** para crear un sistema de chat local.\n",
        "\n",
        "### Prerrequisitos:\n",
        "1. Haber completado el fine-tuning con Unsloth\n",
        "2. Tener los archivos GGUF exportados\n",
        "3. Ollama instalado localmente\n",
        "\n",
        "### Lo que aprenderás:\n",
        "- Importar tu modelo fine-tuneado a Ollama\n",
        "- Crear un Modelfile personalizado\n",
        "- Configurar parámetros de inferencia\n",
        "- Probar el modelo en un chat interactivo"
      ]
    },
    {
      "cell_type": "markdown",
      "metadata": {
        "id": "setup"
      },
      "source": [
        "## 🔧 Configuración Inicial\n",
        "\n",
        "### Verificar instalación de Ollama"
      ]
    },
    {
      "cell_type": "code",
      "execution_count": null,
      "metadata": {
        "id": "check_ollama"
      },
      "outputs": [],
      "source": [
        "import subprocess\n",
        "import os\n",
        "import json\n",
        "from pathlib import Path\n",
        "\n",
        "def run_command(command):\n",
        "    \"\"\"Ejecuta un comando y retorna el resultado\"\"\"\n",
        "    try:\n",
        "        result = subprocess.run(command, shell=True, capture_output=True, text=True)\n",
        "        return result.stdout.strip(), result.stderr.strip(), result.returncode\n",
        "    except Exception as e:\n",
        "        return \"\", str(e), 1\n",
        "\n",
        "# Verificar si Ollama está instalado\n",
        "stdout, stderr, code = run_command(\"ollama --version\")\n",
        "if code == 0:\n",
        "    print(f\"✅ Ollama instalado: {stdout}\")\n",
        "else:\n",
        "    print(\"❌ Ollama no está instalado\")\n",
        "    print(\"📥 Descarga desde: https://ollama.ai\")\n",
        "    print(\"💡 O instala con: curl -fsSL https://ollama.ai/install.sh | sh\")"
      ]
    },
    {
      "cell_type": "markdown",
      "metadata": {
        "id": "modelfile"
      },
      "source": [
        "## 📝 Crear Modelfile Personalizado\n",
        "\n",
        "Un Modelfile define cómo Ollama debe cargar y configurar tu modelo:"
      ]
    },
    {
      "cell_type": "code",
      "execution_count": null,
      "metadata": {
        "id": "create_modelfile"
      },
      "outputs": [],
      "source": [
        "# Configuración del modelo\n",
        "model_name = \"llama3.1-metaday-finetune\"\n",
        "gguf_path = \"./gguf_model/model-q4_k_m.gguf\"  # Ajusta la ruta según tu exportación\n",
        "\n",
        "# Crear Modelfile\n",
        "modelfile_content = f\"\"\"# Modelo Llama 3.1 Fine-tuneado - Meta Day Uruguay 2025\n",
        "FROM {gguf_path}\n",
        "\n",
        "# Template de chat (ChatML)\n",
        "TEMPLATE \"\"\"<|im_start|>system\n",
        "{{ .System }}<|im_end|>\n",
        "<|im_start|>user\n",
        "{{ .Prompt }}<|im_end|>\n",
        "<|im_start|>assistant\n",
        "\"\"\"\n",
        "\n",
        "# Parámetros de inferencia optimizados\n",
        "PARAMETER temperature 0.7\n",
        "PARAMETER top_p 0.9\n",
        "PARAMETER top_k 40\n",
        "PARAMETER repeat_penalty 1.1\n",
        "PARAMETER num_ctx 2048\n",
        "\n",
        "# Mensaje del sistema\n",
        "SYSTEM \"\"\"Eres un asistente de IA útil y conocedor, entrenado durante el Meta Day Uruguay 2025. \n",
        "Respondes de manera clara, precisa y educativa. Siempre intentas ser útil y proporcionar \n",
        "información valiosa al usuario.\"\"\"\n",
        "\"\"\"\n",
        "\n",
        "# Guardar Modelfile\n",
        "with open(\"Modelfile\", \"w\", encoding=\"utf-8\") as f:\n",
        "    f.write(modelfile_content)\n",
        "\n",
        "print(\"✅ Modelfile creado\")\n",
        "print(\"📄 Contenido:\")\n",
        "print(\"=\" * 50)\n",
        "print(modelfile_content)\n",
        "print(\"=\" * 50)"
      ]
    },
    {
      "cell_type": "markdown",
      "metadata": {
        "id": "import_model"
      },
      "source": [
        "## 📦 Importar Modelo a Ollama"
      ]
    },
    {
      "cell_type": "code",
      "execution_count": null,
      "metadata": {
        "id": "import_to_ollama"
      },
      "outputs": [],
      "source": [
        "# Verificar que el archivo GGUF existe\n",
        "if os.path.exists(gguf_path):\n",
        "    print(f\"✅ Archivo GGUF encontrado: {gguf_path}\")\n",
        "    \n",
        "    # Crear el modelo en Ollama\n",
        "    print(f\"📦 Importando modelo '{model_name}' a Ollama...\")\n",
        "    stdout, stderr, code = run_command(f\"ollama create {model_name} -f Modelfile\")\n",
        "    \n",
        "    if code == 0:\n",
        "        print(\"🎉 ¡Modelo importado exitosamente!\")\n",
        "        print(f\"📝 Salida: {stdout}\")\n",
        "    else:\n",
        "        print(f\"❌ Error al importar: {stderr}\")\n",
        "else:\n",
        "    print(f\"❌ Archivo GGUF no encontrado: {gguf_path}\")\n",
        "    print(\"💡 Asegúrate de haber ejecutado la exportación GGUF en el notebook anterior\")\n",
        "    print(\"💡 O ajusta la variable 'gguf_path' con la ruta correcta\")"
      ]
    },
    {
      "cell_type": "markdown",
      "metadata": {
        "id": "list_models"
      },
      "source": [
        "## 📋 Verificar Modelos Disponibles"
      ]
    },
    {
      "cell_type": "code",
      "execution_count": null,
      "metadata": {
        "id": "check_models"
      },
      "outputs": [],
      "source": [
        "# Listar modelos en Ollama\n",
        "print(\"📋 Modelos disponibles en Ollama:\")\n",
        "stdout, stderr, code = run_command(\"ollama list\")\n",
        "\n",
        "if code == 0:\n",
        "    print(stdout)\n",
        "    \n",
        "    # Verificar si nuestro modelo está en la lista\n",
        "    if model_name in stdout:\n",
        "        print(f\"\\n✅ Tu modelo '{model_name}' está listo para usar\")\n",
        "    else:\n",
        "        print(f\"\\n⚠️ Modelo '{model_name}' no encontrado en la lista\")\n",
        "else:\n",
        "    print(f\"❌ Error al listar modelos: {stderr}\")"
      ]
    },
    {
      "cell_type": "markdown",
      "metadata": {
        "id": "test_model"
      },
      "source": [
        "## 🧪 Probar el Modelo"
      ]
    },
    {
      "cell_type": "code",
      "execution_count": null,
      "metadata": {
        "id": "test_chat"
      },
      "outputs": [],
      "source": [
        "def chat_with_model(prompt, model=model_name):\n",
        "    \"\"\"Función para chatear con el modelo\"\"\"\n",
        "    print(f\"🤖 Pregunta: {prompt}\")\n",
        "    print(f\"💭 Respuesta de {model}:\")\n",
        "    print(\"-\" * 50)\n",
        "    \n",
        "    # Ejecutar ollama run\n",
        "    command = f'ollama run {model} \"{prompt}\"'\n",
        "    stdout, stderr, code = run_command(command)\n",
        "    \n",
        "    if code == 0:\n",
        "        print(stdout)\n",
        "    else:\n",
        "        print(f\"❌ Error: {stderr}\")\n",
        "    \n",
        "    print(\"=\" * 50)\n",
        "\n",
        "# Pruebas del modelo\n",
        "test_prompts = [\n",
        "    \"¿Qué aprendiste durante tu fine-tuning en el Meta Day Uruguay 2025?\",\n",
        "    \"Explica qué es LoRA en términos simples\",\n",
        "    \"¿Cuáles son las ventajas de usar Unsloth para fine-tuning?\",\n",
        "    \"¿Es 9.11 mayor que 9.9? Explica tu razonamiento.\"\n",
        "]\n",
        "\n",
        "print(\"🧪 Probando el modelo fine-tuneado...\\n\")\n",
        "\n",
        "for i, prompt in enumerate(test_prompts, 1):\n",
        "    print(f\"\\n🔍 Prueba {i}/{len(test_prompts)}\")\n",
        "    chat_with_model(prompt)\n",
        "\n",
        "print(\"\\n✅ Todas las pruebas completadas\")"
      ]
    },
    {
      "cell_type": "markdown",
      "metadata": {
        "id": "interactive_chat"
      },
      "source": [
        "## 💬 Chat Interactivo (Opcional)\n",
        "\n",
        "Para un chat más interactivo, puedes usar la terminal:"
      ]
    },
    {
      "cell_type": "code",
      "execution_count": null,
      "metadata": {
        "id": "interactive_instructions"
      },
      "outputs": [],
      "source": [
        "print(\"💬 Para iniciar un chat interactivo, ejecuta en tu terminal:\")\n",
        "print(f\"   ollama run {model_name}\")\n",
        "print(\"\\n🔧 Comandos útiles:\")\n",
        "print(f\"   ollama show {model_name}           # Ver información del modelo\")\n",
        "print(f\"   ollama rm {model_name}             # Eliminar el modelo\")\n",
        "print(f\"   ollama pull llama3.1               # Descargar modelo base\")\n",
        "print(f\"   ollama list                        # Listar todos los modelos\")\n",
        "\n",
        "print(\"\\n🌐 También puedes usar la API REST de Ollama:\")\n",
        "print(\"   curl http://localhost:11434/api/generate -d '{\")\n",
        "print(f'     \"model\": \"{model_name}\",\")\n",
        "print('     \"prompt\": \"Tu pregunta aquí\"')\n",
        "print(\"   }'\")"
      ]
    },
    {
      "cell_type": "markdown",
      "metadata": {
        "id": "api_example"
      },
      "source": [
        "## 🔌 Ejemplo de API REST"
      ]
    },
    {
      "cell_type": "code",
      "execution_count": null,
      "metadata": {
        "id": "api_test"
      },
      "outputs": [],
      "source": [
        "import requests\n",
        "import json\n",
        "\n",
        "def chat_via_api(prompt, model=model_name):\n",
        "    \"\"\"Usar la API REST de Ollama\"\"\"\n",
        "    url = \"http://localhost:11434/api/generate\"\n",
        "    data = {\n",
        "        \"model\": model,\n",
        "        \"prompt\": prompt,\n",
        "        \"stream\": False\n",
        "    }\n",
        "    \n",
        "    try:\n",
        "        response = requests.post(url, json=data, timeout=30)\n",
        "        if response.status_code == 200:\n",
        "            result = response.json()\n",
        "            return result.get(\"response\", \"Sin respuesta\")\n",
        "        else:\n",
        "            return f\"Error HTTP: {response.status_code}\"\n",
        "    except requests.exceptions.RequestException as e:\n",
        "        return f\"Error de conexión: {e}\"\n",
        "\n",
        "# Probar API (solo si Ollama está ejecutándose)\n",
        "print(\"🔌 Probando API REST de Ollama...\")\n",
        "test_prompt = \"Hola, ¿cómo estás?\"\n",
        "response = chat_via_api(test_prompt)\n",
        "print(f\"Pregunta: {test_prompt}\")\n",
        "print(f\"Respuesta: {response}\")"
      ]
    },
    {
      "cell_type": "markdown",
      "metadata": {
        "id": "conclusion"
      },
      "source": [
        "## 🎯 Resumen y Próximos Pasos\n",
        "\n",
        "### ✅ Lo que hemos logrado:\n",
        "- Importado tu modelo fine-tuneado a Ollama\n",
        "- Configurado un Modelfile personalizado con ChatML template\n",
        "- Probado el modelo con diferentes preguntas\n",
        "- Aprendido a usar la API REST de Ollama\n",
        "\n",
        "### 🚀 Conexión con Módulo 5 (RAG):\n",
        "Ahora puedes usar este modelo fine-tuneado en el **Módulo 5** para:\n",
        "- Crear un sistema RAG personalizado\n",
        "- Combinar tu conocimiento fine-tuneado con documentos externos\n",
        "- Construir un chatbot especializado para tu dominio\n",
        "\n",
        "### 💡 Ideas para expandir:\n",
        "1. **Integrar con LangChain**: Usar tu modelo en pipelines RAG\n",
        "2. **Crear una interfaz web**: Usar Streamlit o Gradio\n",
        "3. **Optimizar parámetros**: Ajustar temperature, top_p según tu uso\n",
        "4. **Monitorear rendimiento**: Comparar con modelo base\n",
        "5. **Escalar**: Probar con modelos más grandes (70B)\n",
        "\n",
        "### 📚 Recursos útiles:\n",
        "- [Ollama Documentation](https://github.com/ollama/ollama) - Documentación oficial\n",
        "- [Modelfile Reference](https://github.com/ollama/ollama/blob/main/docs/modelfile.md) - Referencia completa\n",
        "- [Ollama API](https://github.com/ollama/ollama/blob/main/docs/api.md) - Documentación de API\n",
        "\n",
        "---\n",
        "**Meta Day Uruguay 2025** - Puente Módulo 4 → Módulo 5 🇺🇾"
      ]
    }
  ],
  "metadata": {
    "colab": {
      "provenance": [],
      "include_colab_link": true
    },
    "kernelspec": {
      "display_name": "Python 3",
      "name": "python3"
    },
    "language_info": {
      "name": "python"
    }
  },
  "nbformat": 4,
  "nbformat_minor": 0
}
