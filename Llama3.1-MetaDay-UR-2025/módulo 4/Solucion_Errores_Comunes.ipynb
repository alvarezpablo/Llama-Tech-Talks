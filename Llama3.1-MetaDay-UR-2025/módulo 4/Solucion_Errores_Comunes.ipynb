{
  "cells": [
    {
      "cell_type": "markdown",
      "metadata": {
        "id": "title"
      },
      "source": [
        "# 🔧 Solución de Errores Comunes - Fine-tuning\n",
        "\n",
        "## Meta Day Uruguay 2025 - Módulo 4: Troubleshooting\n",
        "\n",
        "Este notebook contiene soluciones para los errores más comunes al hacer fine-tuning con Unsloth y QLoRA.\n",
        "\n",
        "### 🚨 Errores cubiertos:\n",
        "1. **TypeError: Descriptors cannot be created directly** (protobuf)\n",
        "2. **CUDA out of memory**\n",
        "3. **ImportError: No module named 'unsloth'**\n",
        "4. **RuntimeError: Expected all tensors to be on the same device**\n",
        "5. **Problemas de versiones de dependencias**\n",
        "6. **Errores de tokenización**"
      ]
    },
    {
      "cell_type": "markdown",
      "metadata": {
        "id": "protobuf_error"
      },
      "source": [
        "## 🔴 Error 1: TypeError - Descriptors cannot be created directly\n",
        "\n",
        "**Error completo:**\n",
        "```\n",
        "TypeError: Descriptors cannot be created directly.\n",
        "If this call came from a _pb2.py file, your generated code is out of date and must be regenerated with protoc >= 3.19.0.\n",
        "```\n",
        "\n",
        "**Causa:** Incompatibilidad entre versiones de protobuf\n",
        "\n",
        "**Solución:**"
      ]
    },
    {
      "cell_type": "code",
      "execution_count": null,
      "metadata": {
        "id": "fix_protobuf"
      },
      "outputs": [],
      "source": [
        "# 🔧 SOLUCIÓN COMPLETA PARA ERROR DE PROTOBUF\n",
        "\n",
        "# Método 1: Variable de entorno (más rápido pero menos eficiente)\n",
        "import os\n",
        "os.environ[\"PROTOCOL_BUFFERS_PYTHON_IMPLEMENTATION\"] = \"python\"\n",
        "print(\"✅ Variable de entorno configurada\")\n",
        "\n",
        "# Método 2: Downgrade de protobuf (recomendado)\n",
        "print(\"🔄 Instalando versión compatible de protobuf...\")\n",
        "%pip install --upgrade \"protobuf<=3.20.3\" --quiet\n",
        "\n",
        "# Verificar versión\n",
        "import protobuf\n",
        "print(f\"📦 Protobuf version: {protobuf.__version__}\")\n",
        "\n",
        "# Reiniciar runtime si es necesario\n",
        "print(\"⚠️ Si el error persiste, reinicia el runtime: Runtime > Restart Runtime\")"
      ]
    },
    {
      "cell_type": "markdown",
      "metadata": {
        "id": "cuda_memory"
      },
      "source": [
        "## 🔴 Error 2: CUDA out of memory\n",
        "\n",
        "**Error:** `RuntimeError: CUDA out of memory`\n",
        "\n",
        "**Soluciones:**"
      ]
    },
    {
      "cell_type": "code",
      "execution_count": null,
      "metadata": {
        "id": "fix_cuda_memory"
      },
      "outputs": [],
      "source": [
        "# 🔧 SOLUCIONES PARA MEMORIA GPU INSUFICIENTE\n",
        "\n",
        "import torch\n",
        "import gc\n",
        "\n",
        "def clear_gpu_memory():\n",
        "    \"\"\"Limpiar memoria GPU\"\"\"\n",
        "    if torch.cuda.is_available():\n",
        "        torch.cuda.empty_cache()\n",
        "        gc.collect()\n",
        "        print(\"🧹 Memoria GPU limpiada\")\n",
        "    else:\n",
        "        print(\"ℹ️ No hay GPU disponible\")\n",
        "\n",
        "def check_gpu_memory():\n",
        "    \"\"\"Verificar uso de memoria GPU\"\"\"\n",
        "    if torch.cuda.is_available():\n",
        "        total = torch.cuda.get_device_properties(0).total_memory / 1024**3\n",
        "        allocated = torch.cuda.memory_allocated(0) / 1024**3\n",
        "        cached = torch.cuda.memory_reserved(0) / 1024**3\n",
        "        free = total - cached\n",
        "        \n",
        "        print(f\"📊 Memoria GPU:\")\n",
        "        print(f\"   Total: {total:.1f} GB\")\n",
        "        print(f\"   Asignada: {allocated:.1f} GB\")\n",
        "        print(f\"   En caché: {cached:.1f} GB\")\n",
        "        print(f\"   Libre: {free:.1f} GB\")\n",
        "        \n",
        "        if free < 2.0:\n",
        "            print(\"⚠️ Poca memoria libre - considera reducir batch_size\")\n",
        "    else:\n",
        "        print(\"ℹ️ No hay GPU disponible\")\n",
        "\n",
        "# Ejecutar diagnóstico\n",
        "clear_gpu_memory()\n",
        "check_gpu_memory()\n",
        "\n",
        "print(\"\\n💡 Soluciones si tienes poco memoria:\")\n",
        "print(\"1. Reducir max_seq_length (ej: 1024 en lugar de 2048)\")\n",
        "print(\"2. Reducir per_device_train_batch_size (ej: 2 en lugar de 8)\")\n",
        "print(\"3. Aumentar gradient_accumulation_steps para compensar\")\n",
        "print(\"4. Usar modelo más pequeño (7B en lugar de 8B)\")\n",
        "print(\"5. Activar gradient_checkpointing\")"
      ]
    },
    {
      "cell_type": "markdown",
      "metadata": {
        "id": "unsloth_import"
      },
      "source": [
        "## 🔴 Error 3: ImportError - No module named 'unsloth'\n",
        "\n",
        "**Solución de instalación paso a paso:**"
      ]
    },
    {
      "cell_type": "code",
      "execution_count": null,
      "metadata": {
        "id": "fix_unsloth_install"
      },
      "outputs": [],
      "source": [
        "# 🔧 INSTALACIÓN PASO A PASO DE UNSLOTH\n",
        "\n",
        "print(\"🔄 Instalando Unsloth y dependencias...\")\n",
        "\n",
        "# Paso 1: Limpiar instalaciones previas\n",
        "%pip uninstall -y unsloth unsloth-zoo --quiet\n",
        "\n",
        "# Paso 2: Instalar dependencias base\n",
        "%pip install torch torchvision torchaudio --index-url https://download.pytorch.org/whl/cu118 --quiet\n",
        "%pip install transformers datasets accelerate peft --quiet\n",
        "\n",
        "# Paso 3: Instalar bitsandbytes\n",
        "%pip install bitsandbytes --quiet\n",
        "\n",
        "# Paso 4: Instalar Unsloth\n",
        "# Para Colab:\n",
        "%pip install \"unsloth[colab-new] @ git+https://github.com/unslothai/unsloth.git\" --quiet\n",
        "\n",
        "# Para otros entornos, usar:\n",
        "# %pip install unsloth --quiet\n",
        "\n",
        "# Paso 5: Verificar instalación\n",
        "try:\n",
        "    from unsloth import FastLanguageModel\n",
        "    print(\"✅ Unsloth instalado correctamente\")\n",
        "except ImportError as e:\n",
        "    print(f\"❌ Error al importar Unsloth: {e}\")\n",
        "    print(\"💡 Intenta reiniciar el runtime y ejecutar de nuevo\")"
      ]
    },
    {
      "cell_type": "markdown",
      "metadata": {
        "id": "device_error"
      },
      "source": [
        "## 🔴 Error 4: Expected all tensors to be on the same device\n",
        "\n",
        "**Solución:**"
      ]
    },
    {
      "cell_type": "code",
      "execution_count": null,
      "metadata": {
        "id": "fix_device_error"
      },
      "outputs": [],
      "source": [
        "# 🔧 SOLUCIÓN PARA ERRORES DE DISPOSITIVO\n",
        "\n",
        "import torch\n",
        "\n",
        "def check_device_setup():\n",
        "    \"\"\"Verificar configuración de dispositivos\"\"\"\n",
        "    print(\"🔍 Verificando configuración de dispositivos...\")\n",
        "    \n",
        "    # Verificar CUDA\n",
        "    cuda_available = torch.cuda.is_available()\n",
        "    print(f\"CUDA disponible: {cuda_available}\")\n",
        "    \n",
        "    if cuda_available:\n",
        "        device_count = torch.cuda.device_count()\n",
        "        current_device = torch.cuda.current_device()\n",
        "        device_name = torch.cuda.get_device_name(current_device)\n",
        "        \n",
        "        print(f\"Dispositivos GPU: {device_count}\")\n",
        "        print(f\"GPU actual: {current_device} ({device_name})\")\n",
        "        \n",
        "        # Configurar dispositivo por defecto\n",
        "        torch.cuda.set_device(0)\n",
        "        print(\"✅ Dispositivo GPU configurado\")\n",
        "    else:\n",
        "        print(\"⚠️ Usando CPU - el entrenamiento será más lento\")\n",
        "\n",
        "def fix_model_device(model, tokenizer):\n",
        "    \"\"\"Asegurar que modelo y tokenizer estén en el dispositivo correcto\"\"\"\n",
        "    device = \"cuda\" if torch.cuda.is_available() else \"cpu\"\n",
        "    \n",
        "    # Mover modelo al dispositivo\n",
        "    if hasattr(model, 'to'):\n",
        "        model = model.to(device)\n",
        "        print(f\"✅ Modelo movido a {device}\")\n",
        "    \n",
        "    # Configurar tokenizer\n",
        "    if hasattr(tokenizer, 'pad_token') and tokenizer.pad_token is None:\n",
        "        tokenizer.pad_token = tokenizer.eos_token\n",
        "        print(\"✅ Pad token configurado\")\n",
        "    \n",
        "    return model, tokenizer\n",
        "\n",
        "# Ejecutar verificación\n",
        "check_device_setup()\n",
        "\n",
        "print(\"\\n💡 Si el error persiste:\")\n",
        "print(\"1. Reinicia el runtime\")\n",
        "print(\"2. Asegúrate de usar FastLanguageModel.from_pretrained()\")\n",
        "print(\"3. No mezcles operaciones CPU/GPU manualmente\")"
      ]
    },
    {
      "cell_type": "markdown",
      "metadata": {
        "id": "version_conflicts"
      },
      "source": [
        "## 🔴 Error 5: Conflictos de Versiones\n",
        "\n",
        "**Instalación limpia con versiones compatibles:**"
      ]
    },
    {
      "cell_type": "code",
      "execution_count": null,
      "metadata": {
        "id": "fix_versions"
      },
      "outputs": [],
      "source": [
        "# 🔧 INSTALACIÓN LIMPIA CON VERSIONES COMPATIBLES\n",
        "\n",
        "print(\"🧹 Limpiando instalaciones previas...\")\n",
        "\n",
        "# Desinstalar paquetes problemáticos\n",
        "packages_to_remove = [\n",
        "    \"unsloth\", \"unsloth-zoo\", \"xformers\", \"trl\", \n",
        "    \"transformers\", \"accelerate\", \"peft\", \"bitsandbytes\"\n",
        "]\n",
        "\n",
        "for package in packages_to_remove:\n",
        "    %pip uninstall -y {package} --quiet\n",
        "\n",
        "print(\"📦 Instalando versiones compatibles...\")\n",
        "\n",
        "# Instalar versiones específicas compatibles\n",
        "compatible_packages = {\n",
        "    \"protobuf\": \"<=3.20.3\",\n",
        "    \"transformers\": \">=4.36.0\",\n",
        "    \"accelerate\": \">=0.21.0\",\n",
        "    \"peft\": \">=0.4.0\",\n",
        "    \"bitsandbytes\": \">=0.41.0\",\n",
        "    \"trl\": \"<0.9.0\",\n",
        "    \"xformers\": \"<0.0.27\"\n",
        "}\n",
        "\n",
        "for package, version in compatible_packages.items():\n",
        "    print(f\"Installing {package}{version}...\")\n",
        "    %pip install \"{package}{version}\" --quiet\n",
        "\n",
        "# Instalar Unsloth al final\n",
        "print(\"Installing Unsloth...\")\n",
        "%pip install \"unsloth[colab-new] @ git+https://github.com/unslothai/unsloth.git\" --quiet\n",
        "\n",
        "print(\"\\n✅ Instalación limpia completada\")\n",
        "print(\"⚠️ IMPORTANTE: Reinicia el runtime antes de continuar\")\n",
        "print(\"   Runtime > Restart Runtime\")"
      ]
    },
    {
      "cell_type": "markdown",
      "metadata": {
        "id": "tokenization_error"
      },
      "source": [
        "## 🔴 Error 6: Errores de Tokenización\n",
        "\n",
        "**Problemas comunes con tokens y chat templates:**"
      ]
    },
    {
      "cell_type": "code",
      "execution_count": null,
      "metadata": {
        "id": "fix_tokenization"
      },
      "outputs": [],
      "source": [
        "# 🔧 SOLUCIÓN PARA ERRORES DE TOKENIZACIÓN\n",
        "\n",
        "def fix_tokenizer_issues(tokenizer):\n",
        "    \"\"\"Solucionar problemas comunes de tokenización\"\"\"\n",
        "    print(\"🔧 Configurando tokenizer...\")\n",
        "    \n",
        "    # Configurar pad token si no existe\n",
        "    if tokenizer.pad_token is None:\n",
        "        tokenizer.pad_token = tokenizer.eos_token\n",
        "        print(\"✅ Pad token configurado\")\n",
        "    \n",
        "    # Configurar padding side\n",
        "    tokenizer.padding_side = \"right\"\n",
        "    print(\"✅ Padding side configurado\")\n",
        "    \n",
        "    # Verificar tokens especiales\n",
        "    special_tokens = {\n",
        "        \"bos_token\": tokenizer.bos_token,\n",
        "        \"eos_token\": tokenizer.eos_token,\n",
        "        \"pad_token\": tokenizer.pad_token,\n",
        "        \"unk_token\": tokenizer.unk_token\n",
        "    }\n",
        "    \n",
        "    print(\"📋 Tokens especiales:\")\n",
        "    for name, token in special_tokens.items():\n",
        "        print(f\"   {name}: {token}\")\n",
        "    \n",
        "    return tokenizer\n",
        "\n",
        "def test_chat_template(tokenizer):\n",
        "    \"\"\"Probar chat template\"\"\"\n",
        "    print(\"🧪 Probando chat template...\")\n",
        "    \n",
        "    # Mensaje de prueba\n",
        "    messages = [\n",
        "        {\"from\": \"human\", \"value\": \"Hola, ¿cómo estás?\"},\n",
        "        {\"from\": \"gpt\", \"value\": \"¡Hola! Estoy bien, gracias por preguntar.\"}\n",
        "    ]\n",
        "    \n",
        "    try:\n",
        "        # Aplicar template\n",
        "        formatted = tokenizer.apply_chat_template(\n",
        "            messages, \n",
        "            tokenize=False, \n",
        "            add_generation_prompt=False\n",
        "        )\n",
        "        print(\"✅ Chat template funcionando\")\n",
        "        print(\"📝 Ejemplo formateado:\")\n",
        "        print(formatted[:200] + \"...\")\n",
        "        \n",
        "    except Exception as e:\n",
        "        print(f\"❌ Error en chat template: {e}\")\n",
        "        print(\"💡 Solución: Configurar template manualmente\")\n",
        "\n",
        "# Ejemplo de uso (descomenta cuando tengas un tokenizer)\n",
        "# tokenizer = fix_tokenizer_issues(tokenizer)\n",
        "# test_chat_template(tokenizer)\n",
        "\n",
        "print(\"💡 Ejecuta estas funciones después de cargar tu tokenizer\")"
      ]
    },
    {
      "cell_type": "markdown",
      "metadata": {
        "id": "quick_fixes"
      },
      "source": [
        "## ⚡ Soluciones Rápidas\n",
        "\n",
        "### Comandos de emergencia:"
      ]
    },
    {
      "cell_type": "code",
      "execution_count": null,
      "metadata": {
        "id": "emergency_fixes"
      },
      "outputs": [],
      "source": [
        "# 🚨 COMANDOS DE EMERGENCIA\n",
        "\n",
        "def emergency_reset():\n",
        "    \"\"\"Reset completo del entorno\"\"\"\n",
        "    print(\"🚨 RESET DE EMERGENCIA\")\n",
        "    \n",
        "    # Limpiar memoria\n",
        "    import gc\n",
        "    import torch\n",
        "    \n",
        "    if torch.cuda.is_available():\n",
        "        torch.cuda.empty_cache()\n",
        "    gc.collect()\n",
        "    \n",
        "    # Variables de entorno\n",
        "    import os\n",
        "    os.environ[\"PROTOCOL_BUFFERS_PYTHON_IMPLEMENTATION\"] = \"python\"\n",
        "    os.environ[\"TOKENIZERS_PARALLELISM\"] = \"false\"\n",
        "    \n",
        "    print(\"✅ Reset completado\")\n",
        "    print(\"⚠️ Reinicia el runtime si los problemas persisten\")\n",
        "\n",
        "def check_environment():\n",
        "    \"\"\"Verificar entorno completo\"\"\"\n",
        "    print(\"🔍 DIAGNÓSTICO COMPLETO\")\n",
        "    print(\"=\" * 40)\n",
        "    \n",
        "    # Python version\n",
        "    import sys\n",
        "    print(f\"Python: {sys.version}\")\n",
        "    \n",
        "    # PyTorch\n",
        "    try:\n",
        "        import torch\n",
        "        print(f\"PyTorch: {torch.__version__}\")\n",
        "        print(f\"CUDA: {torch.cuda.is_available()} ({torch.version.cuda if torch.cuda.is_available() else 'N/A'})\")\n",
        "    except ImportError:\n",
        "        print(\"❌ PyTorch no instalado\")\n",
        "    \n",
        "    # Transformers\n",
        "    try:\n",
        "        import transformers\n",
        "        print(f\"Transformers: {transformers.__version__}\")\n",
        "    except ImportError:\n",
        "        print(\"❌ Transformers no instalado\")\n",
        "    \n",
        "    # Unsloth\n",
        "    try:\n",
        "        import unsloth\n",
        "        print(f\"Unsloth: ✅ Instalado\")\n",
        "    except ImportError:\n",
        "        print(\"❌ Unsloth no instalado\")\n",
        "    \n",
        "    # Protobuf\n",
        "    try:\n",
        "        import google.protobuf\n",
        "        print(f\"Protobuf: {google.protobuf.__version__}\")\n",
        "    except ImportError:\n",
        "        print(\"❌ Protobuf no instalado\")\n",
        "    \n",
        "    print(\"=\" * 40)\n",
        "\n",
        "# Ejecutar diagnóstico\n",
        "check_environment()\n",
        "emergency_reset()"
      ]
    },
    {
      "cell_type": "markdown",
      "metadata": {
        "id": "prevention"
      },
      "source": [
        "## 🛡️ Prevención de Errores\n",
        "\n",
        "### Mejores prácticas para evitar problemas:"
      ]
    },
    {
      "cell_type": "code",
      "execution_count": null,
      "metadata": {
        "id": "best_practices"
      },
      "outputs": [],
      "source": [
        "# 🛡️ MEJORES PRÁCTICAS\n",
        "\n",
        "def setup_best_practices():\n",
        "    \"\"\"Configuración preventiva\"\"\"\n",
        "    print(\"🛡️ Configurando mejores prácticas...\")\n",
        "    \n",
        "    import os\n",
        "    import warnings\n",
        "    \n",
        "    # Variables de entorno preventivas\n",
        "    env_vars = {\n",
        "        \"PROTOCOL_BUFFERS_PYTHON_IMPLEMENTATION\": \"python\",\n",
        "        \"TOKENIZERS_PARALLELISM\": \"false\",\n",
        "        \"CUDA_LAUNCH_BLOCKING\": \"1\",  # Para debugging CUDA\n",
        "        \"PYTHONWARNINGS\": \"ignore\",   # Reducir warnings\n",
        "    }\n",
        "    \n",
        "    for key, value in env_vars.items():\n",
        "        os.environ[key] = value\n",
        "        print(f\"✅ {key} = {value}\")\n",
        "    \n",
        "    # Suprimir warnings comunes\n",
        "    warnings.filterwarnings(\"ignore\", category=UserWarning)\n",
        "    warnings.filterwarnings(\"ignore\", category=FutureWarning)\n",
        "    \n",
        "    print(\"\\n📋 CHECKLIST ANTES DE ENTRENAR:\")\n",
        "    checklist = [\n",
        "        \"✅ Protobuf <= 3.20.3 instalado\",\n",
        "        \"✅ Variables de entorno configuradas\",\n",
        "        \"✅ GPU memory < 80% de uso\",\n",
        "        \"✅ Batch size apropiado para tu GPU\",\n",
        "        \"✅ Dataset cargado correctamente\",\n",
        "        \"✅ Chat template configurado\",\n",
        "        \"✅ Modelo y tokenizer en mismo dispositivo\"\n",
        "    ]\n",
        "    \n",
        "    for item in checklist:\n",
        "        print(f\"   {item}\")\n",
        "    \n",
        "    print(\"\\n💡 TIPS ADICIONALES:\")\n",
        "    tips = [\n",
        "        \"Siempre reinicia runtime después de instalar paquetes\",\n",
        "        \"Usa versiones específicas en lugar de 'latest'\",\n",
        "        \"Guarda checkpoints frecuentemente\",\n",
        "        \"Monitorea uso de memoria durante entrenamiento\",\n",
        "        \"Prueba con datasets pequeños primero\"\n",
        "    ]\n",
        "    \n",
        "    for tip in tips:\n",
        "        print(f\"   💡 {tip}\")\n",
        "\n",
        "# Ejecutar configuración\n",
        "setup_best_practices()"
      ]
    },
    {
      "cell_type": "markdown",
      "metadata": {
        "id": "conclusion"
      },
      "source": [
        "## 🎯 Resumen de Soluciones\n",
        "\n",
        "### 🔧 Orden recomendado para solucionar problemas:\n",
        "\n",
        "1. **Ejecutar emergency_reset()** - Limpia memoria y configura variables\n",
        "2. **Instalar protobuf <= 3.20.3** - Soluciona el error más común\n",
        "3. **Reinstalar Unsloth** - Con versiones compatibles\n",
        "4. **Reiniciar runtime** - Aplicar cambios\n",
        "5. **Verificar GPU memory** - Ajustar batch_size si es necesario\n",
        "6. **Probar con dataset pequeño** - Validar configuración\n",
        "\n",
        "### 📞 Si nada funciona:\n",
        "- Usa Google Colab Pro para más memoria\n",
        "- Prueba con CPU (más lento pero funcional)\n",
        "- Considera usar modelos más pequeños\n",
        "- Revisa la documentación oficial de Unsloth\n",
        "\n",
        "### 🆘 Recursos de ayuda:\n",
        "- [Unsloth GitHub Issues](https://github.com/unslothai/unsloth/issues)\n",
        "- [Hugging Face Forum](https://discuss.huggingface.co/)\n",
        "- [PyTorch Troubleshooting](https://pytorch.org/docs/stable/notes/faq.html)\n",
        "\n",
        "---\n",
        "**Meta Day Uruguay 2025** - Módulo 4: Troubleshooting 🇺🇾"
      ]
    }
  ],
  "metadata": {
    "colab": {
      "provenance": [],
      "include_colab_link": true
    },
    "kernelspec": {
      "display_name": "Python 3",
      "name": "python3"
    },
    "language_info": {
      "name": "python"
    }
  },
  "nbformat": 4,
  "nbformat_minor": 0
}
